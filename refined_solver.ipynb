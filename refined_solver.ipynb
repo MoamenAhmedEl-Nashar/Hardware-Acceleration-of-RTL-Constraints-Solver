{
 "cells": [
  {
   "cell_type": "markdown",
   "metadata": {},
   "source": [
    "\n",
    "# Hyper Parameters\n",
    "\n",
    "1) T (temperature) : The temperature T provides a means to control the balance between the time spent\n",
    " visiting unsatisfying assignments and the ability to move between separated regions of solutions.\n",
    "  When the temperature is high, the distribution is smooth and we move easily between solution regions,\n",
    "   but the total probability of non-solution states can be large compared to the total probability of solutions.\n",
    " Conversely, a low temperature biases the distribution toward solutions at the cost of effectively disconnecting solution regions\n",
    "\n",
    "- in our application(no need to have a good target distribution since we generate only ONE SAMPLE per RUN) we need low T as possible\n",
    "\n",
    "-------------------------------------------------------------\n",
    "\n",
    "2) pls : probability of taking local search move,  (1-pls) -> metropolis move\n",
    "Although our local-search moves are based on the same distributions as our MetropolisHastings moves, they do not use the acceptance rule,\n",
    " so they distort the stationary distribution away from the target distribution.\n",
    " "
   ]
  },
  {
   "cell_type": "markdown",
   "metadata": {},
   "source": [
    "This packages will be needed "
   ]
  },
  {
   "cell_type": "code",
   "execution_count": 4,
   "metadata": {},
   "outputs": [],
   "source": [
    "import numpy as np\n",
    "import random\n",
    "import copy\n",
    "import math"
   ]
  },
  {
   "cell_type": "markdown",
   "metadata": {},
   "source": [
    "This global constants will be needed "
   ]
  },
  {
   "cell_type": "code",
   "execution_count": 5,
   "metadata": {},
   "outputs": [],
   "source": [
    "TEMPERATURE=1\n",
    "PLS0=0\n",
    "pls=0\n",
    "SEED=5\n",
    "random.seed(SEED)\n",
    "np.random.seed(SEED)"
   ]
  },
  {
   "cell_type": "markdown",
   "metadata": {},
   "source": [
    "These constants represent the maximum input sizes , for example here the number of clauses is 7 , you can input only 3 and zeros for the other 4 clauses."
   ]
  },
  {
   "cell_type": "code",
   "execution_count": 6,
   "metadata": {},
   "outputs": [],
   "source": [
    "NUM_OF_BOOL_VARIABLES=1  # x0,[x1,x2,...] NUM_OF_BOOL_VARIABLES in all formula  \n",
    "NUM_OF_INT_VARIABLES=3   # y0+y1+y2+bias<=0  in all formula and in the one literal and in all formula \n",
    "NUM_OF_BOOL_LITERALS=1   # [0(exist)/1(not exist)]x0  NUM_OF_BOOL_LITERALS in one clause\n",
    "NUM_OF_INT_LITERALS=2    # y0+y1+y2+bias<=0 or y0+y1+y2+bias<=0 or y0+y1+y2+bias<=0  NUM_OF_INT_LITERALS in one clause\n",
    "NUM_OF_CLAUSES=7         # clause0 and clause1 and clause2  NUM_OF_CLAUSES in formula"
   ]
  },
  {
   "cell_type": "markdown",
   "metadata": {},
   "source": [
    "These are derived constants , the number of rows means how much rows that a [literal or clause] may occupy in the formula (array or buffer).  "
   ]
  },
  {
   "cell_type": "code",
   "execution_count": 7,
   "metadata": {},
   "outputs": [],
   "source": [
    "INT_LITERAL_NUM_OF_ROWS=NUM_OF_INT_VARIABLES+1\n",
    "BOOL_LITERAL_NUM_OF_ROWS=2\n",
    "CLAUSE_NUM_OF_ROWS=NUM_OF_BOOL_LITERALS*BOOL_LITERAL_NUM_OF_ROWS+NUM_OF_INT_LITERALS*INT_LITERAL_NUM_OF_ROWS\n",
    "FORMULA_NUM_OF_ROWS=CLAUSE_NUM_OF_ROWS*NUM_OF_CLAUSES"
   ]
  },
  {
   "cell_type": "markdown",
   "metadata": {},
   "source": [
    "# NOTES\n",
    "- each boolean literal has tow rows in formula list one for exist or not exist and second for x0 or ~x0\n",
    "- always NUM_OF_BOOL_VARIABLES=NUM_OF_BOOL_LITERALS\n",
    "- No variable names"
   ]
  },
  {
   "cell_type": "markdown",
   "metadata": {},
   "source": [
    "The following is input hardcoding instead of reading the formula (array or buffer)from a text file  , and also for the size of int variables .\n",
    "<img src=\"formula.PNG\" style=\"width:250;height:300px;\">"
   ]
  },
  {
   "cell_type": "code",
   "execution_count": 8,
   "metadata": {},
   "outputs": [],
   "source": [
    "formula=[]\n",
    "#clause0\n",
    "formula.append(0) # [not exist]~x0\n",
    "formula.append(0)\n",
    "formula.append(-1) # -y0+2<=0\n",
    "formula.append(0)\n",
    "formula.append(0)\n",
    "formula.append(2)\n",
    "formula.append(0) # not exist int literal\n",
    "formula.append(0)\n",
    "formula.append(0)\n",
    "formula.append(0)\n",
    "#clause1\n",
    "formula.append(0) # [not exist]~x0\n",
    "formula.append(0)\n",
    "formula.append(1) # y0-16<=0\n",
    "formula.append(0)\n",
    "formula.append(0)\n",
    "formula.append(-16)\n",
    "formula.append(0) # not exist int literal\n",
    "formula.append(0)\n",
    "formula.append(0)\n",
    "formula.append(0)\n",
    "#clause2\n",
    "formula.append(0) # [not exist]~x0\n",
    "formula.append(0)\n",
    "formula.append(0) # -y1<=0\n",
    "formula.append(-1)\n",
    "formula.append(0)\n",
    "formula.append(0)\n",
    "formula.append(0) # not exist int literal\n",
    "formula.append(0)\n",
    "formula.append(0)\n",
    "formula.append(0)\n",
    "#clause3\n",
    "formula.append(0) # [not exist]~x0\n",
    "formula.append(0)\n",
    "formula.append(0) # -y2<=0\n",
    "formula.append(0)\n",
    "formula.append(-1)\n",
    "formula.append(0)\n",
    "formula.append(0) # not exist int literal\n",
    "formula.append(0)\n",
    "formula.append(0)\n",
    "formula.append(0)\n",
    "#clause4\n",
    "formula.append(1) # [ exist]x0\n",
    "formula.append(1)\n",
    "formula.append(1) # y0+y1-12<=0\n",
    "formula.append(1)\n",
    "formula.append(0)\n",
    "formula.append(-12)\n",
    "formula.append(0) # not exist int literal\n",
    "formula.append(0)\n",
    "formula.append(0)\n",
    "formula.append(0)\n",
    "#clause5\n",
    "formula.append(1) # [exist]~x0\n",
    "formula.append(0)\n",
    "formula.append(1) # y0+y1-16<=0\n",
    "formula.append(1)\n",
    "formula.append(0)\n",
    "formula.append(-16)\n",
    "formula.append(-1) # -y0+y1<=0\n",
    "formula.append(1)\n",
    "formula.append(0)\n",
    "formula.append(0)\n",
    "#clause6\n",
    "formula.append(1) # [exist]~x0\n",
    "formula.append(0)\n",
    "formula.append(1) # y0-y1-18<=0\n",
    "formula.append(-1)\n",
    "formula.append(0)\n",
    "formula.append(-18)\n",
    "formula.append(0) # y1+2y2-20<=0\n",
    "formula.append(1)\n",
    "formula.append(2)\n",
    "formula.append(-20)\n",
    "##########################################################################################\n",
    "bit_width_for_int_variables=[]\n",
    "bit_width_for_int_variables.append(8)\n",
    "bit_width_for_int_variables.append(8)\n",
    "bit_width_for_int_variables.append(8)"
   ]
  },
  {
   "cell_type": "markdown",
   "metadata": {},
   "source": [
    "These two global arrays represent the current assignment for all bool and int variables"
   ]
  },
  {
   "cell_type": "code",
   "execution_count": 10,
   "metadata": {},
   "outputs": [],
   "source": [
    "current_values_int=[]\n",
    "current_values_bool=[]"
   ]
  },
  {
   "cell_type": "markdown",
   "metadata": {},
   "source": [
    "# Modules(functions) \n",
    "- global variables are usually inputs for all functions , so I don't write them in parameter list of each function"
   ]
  },
  {
   "cell_type": "markdown",
   "metadata": {},
   "source": [
    "# 1) compute_pls"
   ]
  },
  {
   "cell_type": "code",
   "execution_count": 11,
   "metadata": {},
   "outputs": [],
   "source": [
    "def compute_pls(iteration_number):\n",
    "    pls = PLS0 * math.exp(1-iteration_number)\n",
    "    if (pls>1):\n",
    "        pls = 1\n",
    "    elif (pls <0):\n",
    "        pls = 0\n",
    "        \n",
    "    pls = pls"
   ]
  },
  {
   "cell_type": "markdown",
   "metadata": {},
   "source": [
    "# 2) make_random_assignment_int\n",
    "- assign random values to all int variables"
   ]
  },
  {
   "cell_type": "code",
   "execution_count": 16,
   "metadata": {},
   "outputs": [],
   "source": [
    "def make_random_assignment_int():\n",
    "    for i in range(NUM_OF_INT_VARIABLES):\n",
    "         maximum=math.pow(2,bit_width_for_int_variables[i]-1)-1\n",
    "         minimum=-math.pow(2,bit_width_for_int_variables[i]-1)-1\n",
    "         current_values_int.append(random.randint(minimum,maximum))"
   ]
  },
  {
   "cell_type": "markdown",
   "metadata": {},
   "source": [
    "# 3) make_random_assignment_bool\n",
    "- assign random values to all bool variables"
   ]
  },
  {
   "cell_type": "code",
   "execution_count": 18,
   "metadata": {},
   "outputs": [],
   "source": [
    "def make_random_assignment_bool():\n",
    "    for i in range(NUM_OF_BOOL_VARIABLES):\n",
    "        current_values_bool.append(random.randint(0,1))"
   ]
  },
  {
   "cell_type": "markdown",
   "metadata": {},
   "source": [
    "# 4) check_int_literal\n",
    "- check satisfiability of a specific int literal under the global current assignment"
   ]
  },
  {
   "cell_type": "code",
   "execution_count": 19,
   "metadata": {},
   "outputs": [],
   "source": [
    "def check_int_literal(clause_num,int_literal_num):\n",
    "    \n",
    "    clause=[]\n",
    "    first_c=clause_num *CLAUSE_NUM_OF_ROWS\n",
    "    last_c=first_c+CLAUSE_NUM_OF_ROWS\n",
    "    clause=formula[first_c:last_c]\n",
    "    \n",
    "    int_literal=[]\n",
    "    first=(int_literal_num*INT_LITERAL_NUM_OF_ROWS)+BOOL_LITERAL_NUM_OF_ROWS\n",
    "    last=first+INT_LITERAL_NUM_OF_ROWS\n",
    "    int_literal=clause[first:last]\n",
    "    \n",
    "    #if not exist\n",
    "    exist=0\n",
    "    for i in range(INT_LITERAL_NUM_OF_ROWS):\n",
    "        if int_literal[i]!=0:\n",
    "            exist=1\n",
    "    if exist==0:\n",
    "        return -1\n",
    "    \n",
    "    count = 0\n",
    "    for j in range(NUM_OF_INT_VARIABLES):\n",
    "        count += int_literal[j] * current_values_int[j]\n",
    "    count += int_literal[-1] #bias\n",
    "    if count <= 0:\n",
    "        return True\n",
    "\n",
    "    return False"
   ]
  },
  {
   "cell_type": "markdown",
   "metadata": {},
   "source": [
    "# 5) check_bool_literal\n",
    "- check satisfiability of a specific bool literal under the global current assignment"
   ]
  },
  {
   "cell_type": "code",
   "execution_count": 20,
   "metadata": {},
   "outputs": [],
   "source": [
    "def check_bool_literal(clause_num,bool_literal_num):\n",
    "    clause=[]\n",
    "    first_c=clause_num *CLAUSE_NUM_OF_ROWS\n",
    "    last_c=first_c+CLAUSE_NUM_OF_ROWS\n",
    "    clause=formula[first_c:last_c]\n",
    "    bool_literal=[]\n",
    "    first=bool_literal_num*BOOL_LITERAL_NUM_OF_ROWS\n",
    "    last=first+BOOL_LITERAL_NUM_OF_ROWS\n",
    "    bool_literal=clause[first:last]\n",
    "    \n",
    "    #if not exist\n",
    "    if bool_literal[0]==0 :#not exist bool literal\n",
    "        return -1\n",
    "    \n",
    "    elif current_values_bool[bool_literal_num]==bool_literal[1]:\n",
    "        return True\n",
    "    else:\n",
    "        return False "
   ]
  },
  {
   "cell_type": "markdown",
   "metadata": {},
   "source": [
    "# 6) check_clause"
   ]
  },
  {
   "cell_type": "code",
   "execution_count": 21,
   "metadata": {},
   "outputs": [],
   "source": [
    "def check_clause(clause_num):#from 0 to NUM_OF_CLAUSES-1\n",
    "    clause=[]\n",
    "    first_c=clause_num *CLAUSE_NUM_OF_ROWS\n",
    "    last_c=first_c+CLAUSE_NUM_OF_ROWS\n",
    "    clause=formula[first_c:last_c]\n",
    "    \n",
    "    #if not exist\n",
    "    exist=0\n",
    "    for i in range(CLAUSE_NUM_OF_ROWS):\n",
    "        if clause[i]!=0:\n",
    "            exist=1\n",
    "    if exist==0:\n",
    "        return -1\n",
    "    \n",
    "    for j in range(NUM_OF_BOOL_LITERALS):\n",
    "        if check_bool_literal(clause_num,j)==True :\n",
    "            return True\n",
    "    for k in range(NUM_OF_INT_LITERALS):\n",
    "        if check_int_literal(clause_num,k)==True :\n",
    "            return True\n",
    "    return False"
   ]
  },
  {
   "cell_type": "markdown",
   "metadata": {},
   "source": [
    "# 7) check_formula"
   ]
  },
  {
   "cell_type": "code",
   "execution_count": 22,
   "metadata": {},
   "outputs": [],
   "source": [
    "def check_formula():\n",
    "    for i in range(NUM_OF_CLAUSES):\n",
    "        if check_clause(i)==False:\n",
    "            return False\n",
    "    return True"
   ]
  },
  {
   "cell_type": "markdown",
   "metadata": {},
   "source": [
    "# 8) find_number_of_unsatisfied_clauses"
   ]
  },
  {
   "cell_type": "code",
   "execution_count": 23,
   "metadata": {},
   "outputs": [],
   "source": [
    "def find_number_of_unsatisfied_clauses():\n",
    "    c=0\n",
    "    for i in range(NUM_OF_CLAUSES):\n",
    "        if check_clause(i)==False:\n",
    "            c+=1\n",
    "    return c"
   ]
  },
  {
   "cell_type": "markdown",
   "metadata": {},
   "source": [
    "# 9) reduce_literal\n",
    "- substitute for a literal to get a selected variable alone . (y<=c) or (y>=c)"
   ]
  },
  {
   "cell_type": "code",
   "execution_count": 24,
   "metadata": {},
   "outputs": [],
   "source": [
    "def reduce_literal(clause_num,int_literal_num,index_variable_to_be_unchanged):# from 0 to NUM_OF_INT_VARIABLES-1\n",
    "    clause=[]\n",
    "    first_c=clause_num *CLAUSE_NUM_OF_ROWS\n",
    "    last_c=first_c+CLAUSE_NUM_OF_ROWS\n",
    "    clause=formula[first_c:last_c]\n",
    "    \n",
    "    int_literal=[]\n",
    "    first=(int_literal_num*INT_LITERAL_NUM_OF_ROWS)+BOOL_LITERAL_NUM_OF_ROWS\n",
    "    last=first+INT_LITERAL_NUM_OF_ROWS\n",
    "    int_literal=clause[first:last]\n",
    "\n",
    "    reduced_int_literal=[]\n",
    "    reduced_int_literal=int_literal\n",
    "    \n",
    "    # this variable is not found in that int literal\n",
    "    if reduced_int_literal[index_variable_to_be_unchanged] == 0:\n",
    "            return False\n",
    "\n",
    "    new_bias = 0\n",
    "    bias_updating=False\n",
    "    for i in range(NUM_OF_INT_VARIABLES):\n",
    "        if i != index_variable_to_be_unchanged:\n",
    "            if int_literal[i]!=0:\n",
    "                bias_updating=True \n",
    "            new_bias += current_values_int[i] * int_literal[i]\n",
    "            reduced_int_literal[i] = 0\n",
    "\n",
    "    #updating the bias\n",
    "    if bias_updating==True:\n",
    "        reduced_int_literal[-1] =int_literal[-1] +new_bias\n",
    "    \n",
    "    # +ve value coeff                                                                     \n",
    "    if(reduced_int_literal[index_variable_to_be_unchanged] > 0): \n",
    "        reduced_int_literal[-1] /= int_literal[index_variable_to_be_unchanged]\n",
    "        reduced_int_literal[index_variable_to_be_unchanged] = 1\n",
    "    \n",
    "    # -ve value coeff\n",
    "    else: \n",
    "        reduced_int_literal[-1] /= (-1 * int_literal[index_variable_to_be_unchanged])\n",
    "        reduced_int_literal[index_variable_to_be_unchanged] = -1\n",
    "\n",
    "\n",
    "    #should be something like the form of y1 + 10 <= 0 or -1 y1 +5 <= 0\n",
    "    return reduced_int_literal"
   ]
  },
  {
   "cell_type": "markdown",
   "metadata": {},
   "source": [
    "# 10) get_active_clauses(active formula)\n",
    "- For an integer variable yi, we construct a proposal distribution from the ranges of values\n",
    "that satisfy individual relations. Not all of the relations that refer to yi necessarily contribute to the distribution for the current move; some of them do not constrain yi under the current assignment (x, y) because their clauses are already satisfied by other literals that do not depend on yi. We call the relations that do constrain yi the active relations. To identify them, we substitute the current values of (x, y \\ yi) into all clauses in the formula ϕ and remove falsified literals and satisfied clauses. We call the resulting substituted clauses the active clauses.[1]"
   ]
  },
  {
   "cell_type": "code",
   "execution_count": 26,
   "metadata": {},
   "outputs": [],
   "source": [
    "def get_active_clauses(index_variable_to_be_unchanged): # return active formula\n",
    "    \n",
    "    active_formula=[0]*FORMULA_NUM_OF_ROWS\n",
    "    for i in range(NUM_OF_CLAUSES):\n",
    "        skip=0\n",
    "        active_clause=[0]*CLAUSE_NUM_OF_ROWS\n",
    "\n",
    "        for j in range(NUM_OF_BOOL_LITERALS):\n",
    "            if check_bool_literal(i,j)==True:\n",
    "                skip=1 # the clause is satisfied\n",
    "                \n",
    "        if skip==0:# the clause is not satisfied\n",
    "            for k in range(NUM_OF_INT_LITERALS):\n",
    "                reduced_int_literal=reduce_literal(i,k,index_variable_to_be_unchanged)\n",
    "                if reduced_int_literal==False: # this variable is not in that int literal\n",
    "                    if check_int_literal(i,k)==True:# Skip the whole clause\n",
    "                        skip=1\n",
    "        if skip==0: # the clause is not satisfied \n",
    "            for k in range(NUM_OF_INT_LITERALS):\n",
    "                reduced_int_literal=reduce_literal(i,k,index_variable_to_be_unchanged)\n",
    "                if reduced_int_literal!=False: # this variable is in that int literal\n",
    "                    first=(k*INT_LITERAL_NUM_OF_ROWS)+BOOL_LITERAL_NUM_OF_ROWS\n",
    "                    last=first+INT_LITERAL_NUM_OF_ROWS\n",
    "                    active_clause[first:last]=reduced_int_literal\n",
    "        \n",
    "\n",
    "        first_c=i *CLAUSE_NUM_OF_ROWS\n",
    "        last_c=first_c+CLAUSE_NUM_OF_ROWS\n",
    "        active_formula[first_c:last_c]= active_clause\n",
    "    return active_formula"
   ]
  },
  {
   "cell_type": "markdown",
   "metadata": {},
   "source": [
    "The example in Figure 3.2 illustrates how the active clauses are obtained by substitution\n",
    "and simplification of ϕ.\n",
    "<img src=\"active clauses.PNG\" style=\"width:250;height:300px;\">\n",
    "\n"
   ]
  },
  {
   "cell_type": "code",
   "execution_count": 27,
   "metadata": {},
   "outputs": [
    {
     "name": "stdout",
     "output_type": "stream",
     "text": [
      "[0, 0, -1, 0, 0, 2.0, 0, 0, 0, 0, 0, 0, 1, 0, 0, -16.0, 0, 0, 0, 0, 0, 0, 0, 0, 0, 0, 0, 0, 0, 0, 0, 0, 0, 0, 0, 0, 0, 0, 0, 0, 0, 0, 0, 0, 0, 0, 0, 0, 0, 0, 0, 0, 1, 0, 0, -5.0, -1, 0, 0, 11.0, 0, 0, 0, 0, 0, 0, 0, 0, 0, 0]\n"
     ]
    }
   ],
   "source": [
    "#test active clauses \n",
    "current_values_int=[5,11,4] # the current value for y1 doesn't matter\n",
    "current_values_bool=[1]\n",
    "print(get_active_clauses(0)) # y1 is the 0 variable (first)"
   ]
  },
  {
   "cell_type": "markdown",
   "metadata": {},
   "source": [
    "# Getting the proposal distribution\n",
    "- We construct the proposal distribution q(yi|x, y \\ yi) by combining indicator functions\n",
    "for the active relations. Like the active clauses, the combination of indicators has a two-level structure: For each clause C, we take the pointwise max of the indicators for relations in C to get an indicator for the clause as a whole. Then we conjoin the clause indicators to create a distribution. [1]"
   ]
  },
  {
   "cell_type": "markdown",
   "metadata": {},
   "source": [
    "The meaning of ( uniform ,exp_up ,exp_down ) segments(intervals)\n",
    "<img src=\"Capture.PNG\" style=\"width:250;height:300px;\">"
   ]
  },
  {
   "cell_type": "code",
   "execution_count": 29,
   "metadata": {},
   "outputs": [],
   "source": [
    "#encoding\n",
    "UNIFORM=3\n",
    "EXP_UP=2\n",
    "EXP_DOWN=1\n",
    "#########"
   ]
  },
  {
   "cell_type": "markdown",
   "metadata": {},
   "source": [
    "The interval(segment) is defined as an array of 3 elements ( from , to , type ) ,\n",
    "type is ( uniform(3) ,exp_up(2) or exp_down(1) ) .\n",
    "The indicator will be explained later."
   ]
  },
  {
   "cell_type": "code",
   "execution_count": null,
   "metadata": {},
   "outputs": [],
   "source": [
    "INTERVAL_NUM_OF_ROWS=3 # range and type (uniform or exp)\n",
    "INDICATOR_NUM_OF_ROWS=2*INTERVAL_NUM_OF_ROWS  #indicator for one reduced literal has two intervals\n",
    "NUM_OF_INTERVALS_IN_CLAUSE_INDICATOR=math.pow(2,NUM_OF_INT_LITERALS)\n",
    "NUM_OF_INTERVALS_IN_FORMULA_INDICATOR=math.pow(NUM_OF_INTERVALS_IN_CLAUSE_INDICATOR,NUM_OF_CLAUSES)\n",
    "CLAUSE_INDICATOR_NUM_OF_ROWS=NUM_OF_INTERVALS_IN_CLAUSE_INDICATOR*INTERVAL_NUM_OF_ROWS\n",
    "FORMULA_INDICATOR_NUM_OF_ROWS=NUM_OF_INTERVALS_IN_FORMULA_INDICATOR*INTERVAL_NUM_OF_ROWS"
   ]
  },
  {
   "cell_type": "markdown",
   "metadata": {},
   "source": [
    "# 11) get_indicator (may be not used)\n",
    "- we use “soft” indicators that place uniform probability on satisfying values and decay exponentially in the unsatisfying intervals . [1]\n",
    "<img src=\"ind.PNG\" style=\"width:150;height:200px;\">\n",
    "The indicator is defined as an array contains 2 appended intervals "
   ]
  },
  {
   "cell_type": "code",
   "execution_count": 30,
   "metadata": {},
   "outputs": [],
   "source": [
    "def get_indicator(reduced_int_literal,index_variable_to_be_unchanged): #[1 0 0 5] or [0 -1 0 3]\n",
    "    indicator=[0]*INDICATOR_NUM_OF_ROWS\n",
    "    #test if the literal coefficients are all zeros (not exist)\n",
    "    exist=0\n",
    "    for i in range(INT_LITERAL_NUM_OF_ROWS):\n",
    "        if reduced_int_literal[i]!=0:\n",
    "            exist=1\n",
    "    if exist==0:\n",
    "        return indicator\n",
    "    \n",
    "    # the literal exists\n",
    "    maximum=math.pow(2,bit_width_for_int_variables[index_variable_to_be_unchanged]-1)-1\n",
    "    minimum=-math.pow(2,bit_width_for_int_variables[index_variable_to_be_unchanged]-1)-1\n",
    "    indicator=[]\n",
    "    if reduced_int_literal[index_variable_to_be_unchanged]==1:\n",
    "        # minimum --> -bias\n",
    "        indicator.append(minimum)\n",
    "        indicator.append(-reduced_int_literal[-1]) \n",
    "        indicator.append(UNIFORM)\n",
    "        # -bias --> maximum\n",
    "        indicator.append(-reduced_int_literal[-1])\n",
    "        indicator.append(maximum) \n",
    "        indicator.append(EXP_DOWN)\n",
    "\n",
    "    if reduced_int_literal[index_variable_to_be_unchanged]==-1:\n",
    "        # minimum --> bias\n",
    "        indicator.append(minimum)\n",
    "        indicator.append(reduced_int_literal[-1]) \n",
    "        indicator.append(EXP_UP)\n",
    "        # bias --> maximum\n",
    "        indicator.append(reduced_int_literal[-1])\n",
    "        indicator.append(maximum) \n",
    "        indicator.append(UNIFORM)\n",
    "        \n",
    "\n",
    "    return indicator"
   ]
  },
  {
   "cell_type": "markdown",
   "metadata": {},
   "source": [
    "# 12) is_int_literal_exist (may not be used)\n",
    "to check if it is a literal or not , all coefficients will be zeros if no literal"
   ]
  },
  {
   "cell_type": "code",
   "execution_count": 31,
   "metadata": {},
   "outputs": [],
   "source": [
    "def is_int_literal_exist(int_literal):\n",
    "    #test if the literal coefficients are all zeros (not exist)\n",
    "    exist=False\n",
    "    for i in range(INT_LITERAL_NUM_OF_ROWS):\n",
    "        if int_literal[i]!=0:\n",
    "            exist=True\n",
    "    return exist"
   ]
  },
  {
   "cell_type": "markdown",
   "metadata": {},
   "source": [
    "# 13) get_segments_from_active_formula\n",
    "For each clause C, we take the pointwise max (<b>union</b>) of the indicators for relations in C to get an indicator for the clause as a whole. Then we take the pointwise min (<b>intersection</b>) the clause indicators to create a distribution.\n",
    "the output should be a list (array) of intervals(segments)."
   ]
  },
  {
   "cell_type": "code",
   "execution_count": null,
   "metadata": {},
   "outputs": [],
   "source": [
    "def get_clause(ith_clause,_formula):\n",
    "    clause=[]\n",
    "    first_c=ith_clause *CLAUSE_NUM_OF_ROWS\n",
    "    last_c=first_c+CLAUSE_NUM_OF_ROWS\n",
    "    clause=_formula[first_c:last_c]\n",
    "    return clause"
   ]
  },
  {
   "cell_type": "code",
   "execution_count": null,
   "metadata": {},
   "outputs": [],
   "source": [
    "def get_int_literal(ith_literal,clause):\n",
    "    int_literal=[]\n",
    "    first=(ith_literal*INT_LITERAL_NUM_OF_ROWS)+BOOL_LITERAL_NUM_OF_ROWS\n",
    "    last=first+INT_LITERAL_NUM_OF_ROWS\n",
    "    int_literal=clause[first:last]\n",
    "    return int_literal"
   ]
  },
  {
   "cell_type": "code",
   "execution_count": null,
   "metadata": {},
   "outputs": [],
   "source": [
    "def get_segments_from_active_clause(active_clause):\n",
    "    case1=[]\n",
    "    case2=[]\n",
    "    for i in range(NUM_OF_INT_LITERALS):\n",
    "        "
   ]
  },
  {
   "cell_type": "code",
   "execution_count": 32,
   "metadata": {},
   "outputs": [],
   "source": [
    "def get_segments_from_active_formula(active_formula):\n",
    "    clauses_segments=[]\n",
    "    for i in range(NUM_OF_CLAUSES):\n",
    "        active_clause=get_clause(i,active_formula)\n",
    "        clauses_segments.append(get_segments_from_active_clause(active_clause))\n",
    "        \n",
    "        "
   ]
  },
  {
   "cell_type": "markdown",
   "metadata": {},
   "source": [
    "# 14) select_segment\n"
   ]
  },
  {
   "cell_type": "code",
   "execution_count": 33,
   "metadata": {},
   "outputs": [],
   "source": [
    "def select_segment(segments,num_segments):\n",
    "    w=[0]*num_segments #segments_weights\n",
    "    for i in range(num_segments):\n",
    "        segment=[]\n",
    "        first=i*INTERVAL_NUM_OF_ROWS\n",
    "        last=first+INTERVAL_NUM_OF_ROWS\n",
    "        #print(first)\n",
    "        #print(last)\n",
    "        segment=segments[first:last]\n",
    "        #print(segment)\n",
    "        segment_type=segment[2]\n",
    "        segment_from=segment[0]\n",
    "        segment_to=segment[1]\n",
    "        if segment_type==UNIFORM:\n",
    "            w[i]=segment_to-segment_from+1\n",
    "        if segment_type== EXP_UP or EXP_DOWN:\n",
    "            w[i]=((1-(math.exp(-(segment_to-segment_from+1))))/(1-math.exp(-1)))\n",
    "    probabilities=[]#segments_normalized_probabilities\n",
    "    #print(w)\n",
    "    sum_w = sum(w)\n",
    "    #print(sum_w)\n",
    "    probabilities = [x / sum_w for x in w]\n",
    "    #print(probabilities)\n",
    "    # select segment according to the normalized propabilities p1,p2,p3,...\n",
    "    selected_segment_number = np.random.choice(range(num_segments), p=probabilities)\n",
    "    #print(selected_segment_number)\n",
    "    first=selected_segment_number*INTERVAL_NUM_OF_ROWS\n",
    "    last=first+INTERVAL_NUM_OF_ROWS\n",
    "    selected_segment=segments[first:last]\n",
    "    return selected_segment,w[selected_segment_number]"
   ]
  },
  {
   "cell_type": "markdown",
   "metadata": {},
   "source": [
    "# 15) propose_from_segment"
   ]
  },
  {
   "cell_type": "code",
   "execution_count": 34,
   "metadata": {},
   "outputs": [],
   "source": [
    "def propose_from_segment(segment,w_segment):\n",
    "    segment_type=segment[2]\n",
    "    segment_from=segment[0]\n",
    "    segment_to=segment[1]\n",
    "    \n",
    "    if segment_type==UNIFORM:\n",
    "        proposed_value = random.randint(segment_from, segment_to)\n",
    "        return proposed_value\n",
    "    \n",
    "    theta = random.uniform(0, w_segment)\n",
    "    d = math.ceil(-1 - math.log(1 - theta * (1 - math.exp(-1))))\n",
    "    if segment_type== EXP_UP :\n",
    "        proposed_value = segment_to - d\n",
    "        return proposed_value\n",
    "    if segment_type== EXP_DOWN:\n",
    "        proposed_value = segment_from + d\n",
    "        return proposed_value"
   ]
  },
  {
   "cell_type": "markdown",
   "metadata": {},
   "source": [
    "# 16) propose"
   ]
  },
  {
   "cell_type": "code",
   "execution_count": 35,
   "metadata": {},
   "outputs": [],
   "source": [
    "def propose(selected_int_variable_index):\n",
    "\n",
    "    active_formula=get_active_clauses(selected_int_variable_index)\n",
    "    segments,num_segments=get_segments_from_active_formula(active_formula)\n",
    "    selected_segment,w_selected_segment=select_segment(segments,num_segments)\n",
    "    proposed_value=propose_from_segment(selected_segment,w_selected_segment)\n",
    "    return proposed_value"
   ]
  },
  {
   "cell_type": "markdown",
   "metadata": {},
   "source": [
    "# 17) metropolis_move"
   ]
  },
  {
   "cell_type": "code",
   "execution_count": 36,
   "metadata": {},
   "outputs": [],
   "source": [
    "def metropolis_move():\n",
    "    \n",
    "    #select variable bool or int\n",
    "    if NUM_OF_BOOL_VARIABLES == 0:\n",
    "        random_variable_is_int_or_bool = random.randint(1, 1)\n",
    "    else:\n",
    "        random_variable_is_int_or_bool = random.randint(0, 1)  ## 1 --> int     0-->  bool\n",
    "    if random_variable_is_int_or_bool == 0:\n",
    "        # select bool variable\n",
    "        selected_bool_variable_index = random.choice(range(NUM_OF_BOOL_VARIABLES))\n",
    "        # flip the value of this selected bool variable\n",
    "        if current_values_bool[selected_bool_variable_index]==0:\n",
    "            current_values_bool[selected_bool_variable_index]=1\n",
    "        elif current_values_bool[selected_bool_variable_index]==1:\n",
    "            current_values_bool[selected_bool_variable_index]=0\n",
    "                                                                                                           \n",
    "        # select int variable\n",
    "        selected_int_variable_index = random.choice(range(NUM_OF_INT_VARIABLES))\n",
    "        U = find_number_of_unsatisfied_clauses() \n",
    "        proposed_value = propose(selected_int_variable_index)\n",
    "        # save current int assignment\n",
    "        last_current_values_int = current_values_int\n",
    "        # update current int assignment\n",
    "        current_values_int[selected_int_variable_index] = proposed_value\n",
    "        # Q calculating\n",
    "        Q = 0.5\n",
    "        # U, nU calculating\n",
    "        nU = find_number_of_unsatisfied_clauses() \n",
    "        # take it or not\n",
    "        pr_do_change = min(1, Q * (math.exp(-((nU - U) / TEMPERATURE))))\n",
    "        pr_stay = 1 - pr_do_change\n",
    "        choice = np.random.choice(['do_change', 'stay'], p=[pr_do_change, pr_stay])\n",
    "        if choice == 'stay':\n",
    "            current_values_int = last_current_values_int\n",
    "            return current_values_int\n",
    "        elif choice == 'do_change':\n",
    "            # tha change is made already\n",
    "            return current_values_int"
   ]
  },
  {
   "cell_type": "markdown",
   "metadata": {},
   "source": [
    "# 18) local_move (bool part should be modified)"
   ]
  },
  {
   "cell_type": "code",
   "execution_count": 1,
   "metadata": {},
   "outputs": [],
   "source": [
    "def local_move():\n",
    "    #1 select unsatisﬁed clause C ∈ ϕ uniformly at random\n",
    "    unsatisfied_clauses_indices = []\n",
    "    for i in range(NUM_OF_CLAUSES):\n",
    "        if check_clause(i)==False:\n",
    "            unsatisfied_clauses_indices.append(i)\n",
    "    selected_unsatisfied_clause_index = random.choice(unsatisfied_clauses_indices)\n",
    "\n",
    "    # bool part\n",
    "    '''\n",
    "    for j in range (NUM_OF_BOOL_LITERALS):\n",
    "        unsatisfied_clause.bool_literals[i].value =~ unsatisfied_clause.bool_literals[i].value\n",
    "        value =find_number_of_unsatisfied_clauses()\n",
    "        if (i == 0):\n",
    "            min_bool = value\n",
    "        elif (value < min_bool):\n",
    "            min_bool = value\n",
    "    \n",
    "    '''\n",
    "    \n",
    "    # int part\n",
    "    for k in range(NUM_OF_INT_LITERALS):\n",
    "        int_variables_in_literal=[]\n",
    "        selected_unsatisfied_clause=[]\n",
    "        first_c=selected_unsatisfied_clause_index *CLAUSE_NUM_OF_ROWS\n",
    "        last_c=first_c+CLAUSE_NUM_OF_ROWS\n",
    "        selected_unsatisfied_clause=formula[first_c:last_c]\n",
    "        \n",
    "        int_literal=[]\n",
    "        first=(k*INT_LITERAL_NUM_OF_ROWS)+BOOL_LITERAL_NUM_OF_ROWS\n",
    "        last=first+INT_LITERAL_NUM_OF_ROWS\n",
    "        int_literal=selected_unsatisfied_clause[first:last]\n",
    "        \n",
    "        if is_int_literal_exist(int_literal)==True:\n",
    "            #select random variable that is involved in this literal\n",
    "            for m in range(NUM_OF_INT_VARIABLES):\n",
    "                if int_literal[m]!=0:\n",
    "                    int_variables_in_literal.append(m)\n",
    "            selected_int_variable_index = random.choice(int_variables_in_literal)\n",
    "            \n",
    "            # save current int assignment\n",
    "            last_current_values_int = current_values_int\n",
    "            \n",
    "            old_number = find_number_of_unsatisfied_clauses()\n",
    "            \n",
    "            current_values_int[selected_int_variable_index] = propose(selected_int_variable_index)\n",
    "            new_number = find_number_of_unsatisfied_clauses()\n",
    "            if (old_number<new_number):\n",
    "                current_values_int = last_current_values_int\n",
    "        else :\n",
    "            continue\n",
    "            \n",
    "    return current_values_int"
   ]
  },
  {
   "cell_type": "markdown",
   "metadata": {},
   "source": [
    "# 19) solver"
   ]
  },
  {
   "cell_type": "code",
   "execution_count": 38,
   "metadata": {},
   "outputs": [],
   "source": [
    "def solver():\n",
    "    #make random assignments\n",
    "    make_random_assignment_int()\n",
    "    print('random',current_values_int)\n",
    "    make_random_assignment_bool()\n",
    "    #metropolis\n",
    "    current_int=metropolis_move()\n",
    "    counter=1\n",
    "    print(counter,current_int)\n",
    "\n",
    "    while check_satisfiability()==False: #problem here\n",
    "        counter+=1\n",
    "        compute_pls(counter)\n",
    "        \n",
    "        choice=np.random.choice(['local','metropolis'], p=[pls,1-pls])\n",
    "        #choice='metropolis'\n",
    "        if choice == 'local':\n",
    "            print(\"local\")\n",
    "            current_int=local_move()\n",
    "\n",
    "        elif choice == 'metropolis':\n",
    "            print(\"metropolis\")\n",
    "            current_int=metropolis_move()\n",
    "        print(counter,current_int)"
   ]
  },
  {
   "cell_type": "markdown",
   "metadata": {},
   "source": [
    "# Refrences\n",
    "[1]http://www.eecs.berkeley.edu/Pubs/TechRpts/2010/EECS-2010-165.html"
   ]
  },
  {
   "cell_type": "code",
   "execution_count": null,
   "metadata": {},
   "outputs": [],
   "source": []
  }
 ],
 "metadata": {
  "kernelspec": {
   "display_name": "Python 3",
   "language": "python",
   "name": "python3"
  },
  "language_info": {
   "codemirror_mode": {
    "name": "ipython",
    "version": 3
   },
   "file_extension": ".py",
   "mimetype": "text/x-python",
   "name": "python",
   "nbconvert_exporter": "python",
   "pygments_lexer": "ipython3",
   "version": "3.7.0"
  }
 },
 "nbformat": 4,
 "nbformat_minor": 2
}
